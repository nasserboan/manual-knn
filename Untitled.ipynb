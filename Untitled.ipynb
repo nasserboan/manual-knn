{
 "cells": [
  {
   "cell_type": "markdown",
   "metadata": {},
   "source": [
    "# Tarefa 2: Aprendizado Supervisionado (KNNClassifier, KNNRegressor)\n",
    "Autor: Nasser Santiago Boan\n",
    "\n",
    "1) Implementar a função “predict_KNN(pontos,ponto)”, que recebe o conjunto de treinamento e o ponto cuja classe será predita e retornada.\n",
    "\n",
    "Variáveis:\n",
    "pontos: conjunto de pontos com as colunas age,chol e thalach.\n",
    "\n",
    "ponto: ponto a ser predito.\n",
    "\n",
    "train_test_split : 70/30\n",
    "\n",
    "\n",
    "2) implementar a função “predict_KNN(pontos,ponto)”, que recebe o conjunto de treinamento e o pontocujo target será predito, porém, aqui, você realizará uma regressão. Considere as features como sendo apenas age e chol, tendo thalach como o alvo da regressão. Esta tarefa deve ser realizada nos dois datasets fornecidos.\n",
    "\n",
    "\n",
    "O seu relatório será o notebook exportado para um arquivo HTML e deve conter:\n",
    "\n",
    "> Para a tarefa 1: um scatter plot 3D mostrando os pontos de treinamento, os pontos que estão sendo preditos (acima deles, deve haver uma annotation com a classe em que foram classificados) e um código de cores intuitivo.\n",
    "\n",
    "> Para a tarefa 2: um scatter plot mostrando os pontos de treinamento, os pontos que estão sendo preditos, um código de cores intuitivo que diferencie os pontos preditos dos pontos de treinamento e o erro total médio."
   ]
  },
  {
   "cell_type": "code",
   "execution_count": null,
   "metadata": {},
   "outputs": [],
   "source": []
  }
 ],
 "metadata": {
  "kernelspec": {
   "display_name": "Python 3.7.6 64-bit ('base': conda)",
   "language": "python",
   "name": "python37664bitbaseconda774df39cacc84caf9286edd8f47a70cc"
  },
  "language_info": {
   "codemirror_mode": {
    "name": "ipython",
    "version": 3
   },
   "file_extension": ".py",
   "mimetype": "text/x-python",
   "name": "python",
   "nbconvert_exporter": "python",
   "pygments_lexer": "ipython3",
   "version": "3.7.6"
  }
 },
 "nbformat": 4,
 "nbformat_minor": 4
}
